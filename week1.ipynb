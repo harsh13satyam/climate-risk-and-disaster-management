{
 "cells": [
  {
   "cell_type": "code",
   "execution_count": null,
   "id": "9c6f0410",
   "metadata": {},
   "outputs": [],
   "source": [
    "# Required Libraries for Climate Risk and Disaster Management PROJECT\n",
    "import pandas as pd\n",
    "import numpy as np\n",
    "\n",
    "# Data Visualization Libraries\n",
    "import matplotlib.pyplot as plt\n",
    "import seaborn as sns\n",
    "import plotly.express as px\n",
    "import plotly.graph_objects as go\n",
    "\n",
    "# Geospatial and Mapping Libraries\n",
    "import geopandas as gpd\n",
    "import folium\n",
    "from shapely.geometry import Point, Polygon\n",
    "import contextily as ctx\n",
    "\n",
    "# Machine Learning Libraries\n",
    "from sklearn.model_selection import train_test_split, GridSearchCV, cross_val_score\n",
    "from sklearn.preprocessing import LabelEncoder, StandardScaler, MinMaxScaler\n",
    "from sklearn.ensemble import RandomForestClassifier, RandomForestRegressor\n",
    "from sklearn.linear_model import LogisticRegression, LinearRegression\n",
    "from sklearn.metrics import classification_report, confusion_matrix, accuracy_score\n",
    "from sklearn.cluster import KMeans, DBSCAN\n",
    "from sklearn.tree import DecisionTreeClassifier\n",
    "\n",
    "# Time Series Analysis\n",
    "from statsmodels.tsa.seasonal import seasonal_decompose\n",
    "from statsmodels.tsa.arima.model import ARIMA\n",
    "import datetime as dt\n",
    "\n",
    "# Weather and Climate Data Libraries\n",
    "import requests  # For API calls to weather services\n",
    "import json\n",
    "\n",
    "# Statistical Analysis\n",
    "from scipy import stats\n",
    "from scipy.stats import pearsonr, spearmanr\n",
    "\n",
    "# Image Processing (for satellite imagery analysis)\n",
    "from PIL import Image\n",
    "import cv2\n",
    "\n",
    "# Parallel Processing\n",
    "import joblib\n",
    "\n",
    "# Warning Management\n",
    "import warnings\n",
    "warnings.filterwarnings('ignore')\n",
    "\n"
   ]
  },
  {
   "cell_type": "code",
   "execution_count": 5,
   "id": "f688a4c5",
   "metadata": {},
   "outputs": [
    {
     "name": "stdout",
     "output_type": "stream",
     "text": [
      "   Year   Seq Glide Disaster Group Disaster Subgroup      Disaster Type  \\\n",
      "0  1900  9002   NaN        Natural    Climatological            Drought   \n",
      "1  1900  9001   NaN        Natural    Climatological            Drought   \n",
      "2  1902    12   NaN        Natural       Geophysical         Earthquake   \n",
      "3  1902     3   NaN        Natural       Geophysical  Volcanic activity   \n",
      "4  1902    10   NaN        Natural       Geophysical  Volcanic activity   \n",
      "\n",
      "  Disaster Subtype Disaster Subsubtype   Event Name     Country  ...  \\\n",
      "0          Drought                 NaN          NaN  Cabo Verde  ...   \n",
      "1          Drought                 NaN          NaN       India  ...   \n",
      "2  Ground movement                 NaN          NaN   Guatemala  ...   \n",
      "3         Ash fall                 NaN  Santa Maria   Guatemala  ...   \n",
      "4         Ash fall                 NaN  Santa Maria   Guatemala  ...   \n",
      "\n",
      "  No Affected No Homeless Total Affected Insured Damages ('000 US$)  \\\n",
      "0         NaN         NaN            NaN                        NaN   \n",
      "1         NaN         NaN            NaN                        NaN   \n",
      "2         NaN         NaN            NaN                        NaN   \n",
      "3         NaN         NaN            NaN                        NaN   \n",
      "4         NaN         NaN            NaN                        NaN   \n",
      "\n",
      "  Total Damages ('000 US$)       CPI Adm Level Admin1 Code Admin2 Code  \\\n",
      "0                      NaN  3.221647       NaN         NaN         NaN   \n",
      "1                      NaN  3.221647       NaN         NaN         NaN   \n",
      "2                  25000.0  3.350513       NaN         NaN         NaN   \n",
      "3                      NaN  3.350513       NaN         NaN         NaN   \n",
      "4                      NaN  3.350513       NaN         NaN         NaN   \n",
      "\n",
      "  Geo Locations  \n",
      "0           NaN  \n",
      "1           NaN  \n",
      "2           NaN  \n",
      "3           NaN  \n",
      "4           NaN  \n",
      "\n",
      "[5 rows x 45 columns]\n"
     ]
    }
   ],
   "source": [
    "df =pd.read_csv(\"C:/Users/HARSH/Downloads/climatedataset.csv\")\n",
    "print(df.head())"
   ]
  }
 ],
 "metadata": {
  "kernelspec": {
   "display_name": "Python 3",
   "language": "python",
   "name": "python3"
  },
  "language_info": {
   "codemirror_mode": {
    "name": "ipython",
    "version": 3
   },
   "file_extension": ".py",
   "mimetype": "text/x-python",
   "name": "python",
   "nbconvert_exporter": "python",
   "pygments_lexer": "ipython3",
   "version": "3.12.8"
  }
 },
 "nbformat": 4,
 "nbformat_minor": 5
}
